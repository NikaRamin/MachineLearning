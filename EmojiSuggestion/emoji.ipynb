{
  "cells": [
    {
      "cell_type": "markdown",
      "metadata": {
        "id": "tTNntNpv1bIl"
      },
      "source": [
        "# 🎭 Emotion Detection & Emoji Suggestion\n",
        "\n",
        "[![Open In Colab](https://colab.research.google.com/assets/colab-badge.svg)](https://colab.research.google.com/github/yourusername/emotion-detection-emoji/blob/main/emoji.ipynb)\n", "## 🔹 Step 1: Setup & Install Dependencies\n",
        "\n",  "* Before running the script, ensure you have Hugging Face Transformers and Datasets installed:"
        "## Overview\n", ]
        "- Uses DistilRoBERTa model fine-tuned for emotion detection\n",
        "- Detects 7 different emotions\n",
        "- Suggests relevant emojis from a curated dataset\n","code",
        "- Interactive interface for real-time testing"l,
      ]etadata": {
    },_oB2Zb1"
    {
      "cell_type": "markdown",
      "metadata": {source": [
        "id": "tTNntNpv1bIl"  "!pip install transformers datasets torch"
      }, ]
      "source": [
        "## 🔹 Step 1: Setup & Install Dependencies\n",
        "* Before running the script, ensure you have Hugging Face Transformers and Datasets installed:"",
      ]etadata": {
    },GRzYTj25gw"
    {
      "cell_type": "code",
      "execution_count": null, Step 2: Import Required Libraries\n",
      "metadata": {
        "id": "F_PPn_oB2Zb1"
      },utoModelForSequenceClassification`: Loads a pre-trained transformer-based model for classification.\n",
      "outputs": [],
      "source": [
        "!pip install transformers datasets torch" model-readable format.\n",
      ]
    },`Trainer`: A high-level API for fine-tuning transformer models.\n",
    {, etc.).\n",
      "cell_type": "markdown", "\n",
      "metadata": {  "* `load_dataset:` Loads pre-built datasets from Hugging Face’s datasets library."
        "id": "AaGRzYTj25gw" ]
      },
      "source": [
        "## 🔹 Step 2: Import Required Libraries\n","code",
        "### Required libraries :\n",l,
        "\n",etadata": {
        "* `AutoModelForSequenceClassification`: Loads a pre-trained transformer-based model for classification.\n",LNJ3-GG"
        "\n",
        "\n",
        "*   `AutoTokenizer`: Handles text tokenization to convert raw text into model-readable format.\n",
        "\n",mers import AutoModelForSequenceClassification, AutoTokenizer, Trainer, TrainingArguments\n",
        "*   `Trainer`: A high-level API for fine-tuning transformer models.\n",
        "TrainingArguments: Defines training parameters (learning rate, batch size, epochs, etc.).\n",
        "\n",t\n",
        "* `load_dataset:` Loads pre-built datasets from Hugging Face’s datasets library."
      ] "import ipywidgets as widgets\n",
    },  "from IPython.display import display"
    { ]
      "cell_type": "code",
      "execution_count": null,
      "metadata": {",
        "id": "nJ9kwLNJ3-GG"etadata": {
      },LWgLh64-U-"
      "outputs": [],
      "source": [
        "from transformers import AutoModelForSequenceClassification, AutoTokenizer, Trainer, TrainingArguments\n", "## 🔹 Step 3: Disable Parallelism Warning\n",
        "import torch\n",  "This prevents tokenizer parallelism issues that can cause deadlocks in multi-threaded environments."
        "import os\n", ]
        "from datasets import load_dataset\n",
        "import pandas as pd\n",
        "import ipywidgets as widgets\n","code",
        "from IPython.display import display"l,
      ]etadata": {
    },jmI5LfK"
    {
      "cell_type": "markdown",
      "metadata": {source": [
        "id": "NWLWgLh64-U-"  "os.environ[\"TOKENIZERS_PARALLELISM\"] = \"false\""
      }, ]
      "source": [
        "## 🔹 Step 3: Disable Parallelism Warning\n",
        "This prevents tokenizer parallelism issues that can cause deadlocks in multi-threaded environments."",
      ]etadata": {
    },MazgTO_9NW"
      },
      "source": [
        "## 🔹 Step 4: Load the Pre-trained Model and Tokenizer\n",
        "* `AutoTokenizer.from_pretrained(model_name)`: Loads a pre-trained tokenizer (DistilRoBERTa).\n",
        "\n",
        "* `AutoModelForSequenceClassification.from_pretrained(model_name)`: Loads a pre-trained sentiment model.\n",
        "* `emotion_labels`: Defines 7 emotion categories that the model will classify.\n"
      ]
    },
    {
      "cell_type": "code",
      "execution_count": null,
      "metadata": {
        "colab": {
          "base_uri": "https://localhost:8080/"
        },
        "id": "8-NJ4T9RAPGQ",
        "outputId": "0748727d-c021-44d7-b691-e6557d56ccd9"
      },
      "outputs": [
        {
          "name": "stderr",
          "output_type": "stream",
          "text": [
            "All TF 2.0 model weights were used when initializing RobertaForSequenceClassification.\n",
            "\n",
            "All the weights of RobertaForSequenceClassification were initialized from the TF 2.0 model.\n",
            "If your task is similar to the task the model of the checkpoint was trained on, you can already use RobertaForSequenceClassification for predictions without further training.\n"
          ]
        }
      ],
      "source": [
        "model_name = \"j-hartmann/emotion-english-distilroberta-base\"\n",
        "tokenizer = AutoTokenizer.from_pretrained(model_name)\n",
        "model = AutoModelForSequenceClassification.from_pretrained(model_name,from_tf=True)\n",
        "emotion_labels = [\"anger\", \"disgust\", \"fear\", \"joy\", \"neutral\", \"sadness\", \"surprise\"]\n"
      ]
    },
    {
      "cell_type": "markdown",
      "metadata": {
        "id": "DBAJlh19FXLk"
      },
      "source": [
        "## 🔹Step 5: Load the GoEmotions Dataset\n",
        " * `go_emotions`: A dataset from Google containing 58k English Reddit comments, labeled with emotions."
      ]
    },
    {
      "cell_type": "code",
      "execution_count": null,
      "metadata": {
        "id": "FGOZPDlUFwwL"
      },
      "outputs": [],
      "source": [
        "dataset = load_dataset(\"go_emotions\")"
      ]
    },
    {
      "cell_type": "code",
      "execution_count": null,
      "metadata": {
        "colab": {
          "base_uri": "https://localhost:8080/"
        },
        "id": "rvcFU7vTjf02",
        "outputId": "f9feb07f-4fdf-4096-9c48-ed29a0ce7c12"
      },
      "outputs": [
        {
          "name": "stdout",
          "output_type": "stream",
          "text": [
            "{'text': [\"My favourite food is anything I didn't have to cook myself.\", 'Now if he does off himself, everyone will think hes having a laugh screwing with people instead of actually dead', 'WHY THE FUCK IS BAYLESS ISOING', 'To make her feel threatened', 'Dirty Southern Wankers'], 'labels': [[27], [27], [2], [14], [3]], 'id': ['eebbqej', 'ed00q6i', 'eezlygj', 'ed7ypvh', 'ed0bdzj']}\n"
          ]
        }
      ],
      "source": [
        "print(dataset['train'][:5])"
      ]
    },
    {
      "cell_type": "markdown",
      "metadata": {
        "id": "EsKusj1AF_lH"
      },
      "source": [
        "## 🔹 Step 6: Preprocess the Dataset\n",
        "\n",
        "1. Preprocessing:\n",
        "    * The p`reprocess_data` function converts raw text into tokenized inputs for the model.\n",
        "    * ` truncation=True`: Ensures input is within model limits (max 512 tokens).\n",
        "    * `padding=True`: Ensures consistent input size in batches.\n",
        "2. Applying to Dataset:\n",
        "    * `.map(preprocess_function, batched=True)`: Applies the function to all samples.\n",
        "    * `batched=True`: This indicates that the `preprocess_data` function will be applied to batches of samples at once for increased efficiency.\n"
      ]
    },
    {
      "cell_type": "code",
      "execution_count": null,
      "metadata": {
        "colab": {
          "base_uri": "https://localhost:8080/",
          "height": 49,
          "referenced_widgets": [
            "c3884c35dda04620818ef09929cb2a5b",
            "28147acfd0da4c1dbd8dde42b2f52e4a",
            "325e60f6f6864865826ee9efdd69d8ed",
            "d8b04b519a92413e8a52f46ac7765f8e",
            "c1f0e7556443464b8ddbcd9128bed552",
            "7310a171cba744a7bd542e8e107562b8",
            "747a24f7bd714b4cbff3240cebffa500",
            "a940cd788b71467bbeeb01e76c5c973a",
            "36f24d06f4c5446b9a3cdc230ba41688",
            "d68bee574b1c415f8a04ab0d186d5f7f",
            "433d8efea67d4795a61155af3062b969"
          ]
        },
        "id": "Y5dyGef4GCE-",
        "outputId": "3ffd4742-167d-4b51-904a-ca06a87b39c5"
      },
      "outputs": [
        {
          "data": {
            "application/vnd.jupyter.widget-view+json": {
              "model_id": "c3884c35dda04620818ef09929cb2a5b",
              "version_major": 2,
              "version_minor": 0
            },
            "text/plain": [
              "Map:   0%|          | 0/5427 [00:00<?, ? examples/s]"
            ]
          },
          "metadata": {},
          "output_type": "display_data"
        }
      ],
      "source": [
        "def preprocess_data(examples):\n",
        "    return tokenizer(examples[\"text\"], truncation=True, padding=\"max_length\", max_length=128)\n",
        "\n",
        "\n",
        "encoded_dataset = dataset.map(preprocess_data, batched=True)\n"
      ]
    },
    {
      "cell_type": "markdown",
      "metadata": {
        "id": "caZGcb6QPlhF"
      },
      "source": [
        "## 🔹 Step 7: Emotion Analysis Function\n",
        "1. Tokenization: Converts text into model-friendly format.\n",
        "2. Model Prediction:\n",
        "    * `return_tensors=\"pt\"`: Ensures Compatibility with PyTorch Models\n",
        "    * `output.logits`: Raw model scores.\n",
        "    * `torch.softmax(..., dim=1)`: Converts scores to probabilities.\n",
        "    * `.squeeze()`: a tensor operation that removes dimensions of size 1 from the tensor. This helps simplify the tensor shape while keeping its data unchanged.\n",
        "3. Get Top-3 Emotions:\n",
        "    * `sorted_indices`: Sorts emotions by probability.\n",
        "    * Returns top 3 emotions with scores."
      ]
    },
    {
      "cell_type": "code",
      "execution_count": null,
      "metadata": {
        "id": "izzR6-nHQF8X"
      },
      "outputs": [],
      "source": [
        "def emotions_analysis(text):\n",
        "    input = tokenizer(text, return_tensors='pt')\n",
        "    with torch.no_grad():\n",
        "        output = model(**input)\n",
        "        scores = torch.softmax(output.logits, dim=1).squeeze().tolist()\n",
        "    sorted_indices = sorted(range(len(scores)), key=lambda i: scores[i], reverse=True)\n",
        "    top_emotions = [(emotion_labels[i], scores[i]) for i in sorted_indices[:3]]\n",
        "\n",
        "    return top_emotions\n"
      ]
    },
    {
      "cell_type": "markdown",
      "metadata": {
        "id": "Dn7oO_gXRKWy"
      },
      "source": [
        "## 🔹 Step 8: Run Emotion Detection"
      ]
    },
    {
      "cell_type": "code",
      "execution_count": null,
      "metadata": {
        "colab": {
          "base_uri": "https://localhost:8080/"
        },
        "id": "5ly8zh4URLZN",
        "outputId": "e876e5dd-fb7e-4e50-b021-b16725e55488"
      },
      "outputs": [
        {
          "name": "stdout",
          "output_type": "stream",
          "text": [
            "Detected Emotions:\n",
            "joy: 0.7235\n",
            "surprise: 0.2383\n",
            "neutral: 0.0196\n",
            "Top Emotion: joy\n"
          ]
        }
      ],
      "source": [
        "text = \"It was an amazing day\"\n",
        "detected_emotions = emotions_analysis(text)\n",
        "\n",
        "# Print detected emotions with scores\n",
        "print(\"Detected Emotions:\")\n",
        "for emotion, score in detected_emotions:\n",
        "    print(f\"{emotion}: {score:.4f}\")\n",
        "top_emotion = detected_emotions[0][0]\n",
        "print(f\"Top Emotion: {top_emotion}\")\n"
      ]
    },
    {
      "cell_type": "markdown",
      "metadata": {
        "id": "MnduLlEmY9q4"
      },
      "source": [
        "## 🔹 Step 9: Load dataset"
      ]
    },
    {
      "cell_type": "code",
      "execution_count": null,
      "metadata": {
        "id": "v02GKKdApCOz"
      },
      "outputs": [],
      "source": [
        "\n",
        "def remove_duplicate_rows(input_file):\n",
        "    try:\n",
        "        df = pd.read_csv(input_file)\n",
        "        df_no_duplicates = df.drop_duplicates()\n",
        "        return df_no_duplicates\n",
        "    except FileNotFoundError:\n",
        "        print(f\"Error: Input file '{input_file}' not found.\")\n",
        "    except Exception as e:\n",
        "        print(f\"An error occurred: {e}\")\n",
        "\n",
        "input_csv_file = \"dataset.csv\"\n",
        "dataset = remove_duplicate_rows(input_csv_file)\n"
      ]
    },
    {
      "cell_type": "code",
      "execution_count": null,
      "metadata": {
        "colab": {
          "base_uri": "https://localhost:8080/",
          "height": 424
        },
        "id": "gjgHBo-MoSSJ",
        "outputId": "baf4a994-d902-4315-80a1-10f1201cff8a"
      },
      "outputs": [
        {
          "data": {
            "application/vnd.google.colaboratory.intrinsic+json": {
              "summary": "{\n  \"name\": \"dataset\",\n  \"rows\": 79,\n  \"fields\": [\n    {\n      \"column\": \"emoji\",\n      \"properties\": {\n        \"dtype\": \"string\",\n        \"num_unique_values\": 78,\n        \"samples\": [\n          \"\\ud83d\\ude0b\",\n          \"\\ud83d\\ude20\",\n          \"\\ud83d\\ude0d\"\n        ],\n        \"semantic_type\": \"\",\n        \"description\": \"\"\n      }\n    },\n    {\n      \"column\": \"emotion_label\",\n      \"properties\": {\n        \"dtype\": \"category\",\n        \"num_unique_values\": 7,\n        \"samples\": [\n          \"anger\",\n          \"sadness\",\n          \"neutral\"\n        ],\n        \"semantic_type\": \"\",\n        \"description\": \"\"\n      }\n    }\n  ]\n}",
              "type": "dataframe",
              "variable_name": "dataset"
            },
            "text/html": [
              "\n",
              "  <div id=\"df-3fc941cd-1a99-42dc-9c27-eff3b2b69ac8\" class=\"colab-df-container\">\n",
              "    <div>\n",
              "<style scoped>\n",
              "    .dataframe tbody tr th:only-of-type {\n",
              "        vertical-align: middle;\n",
              "    }\n",
              "\n",
              "    .dataframe tbody tr th {\n",
              "        vertical-align: top;\n",
              "    }\n",
              "\n",
              "    .dataframe thead th {\n",
              "        text-align: right;\n",
              "    }\n",
              "</style>\n",
              "<table border=\"1\" class=\"dataframe\">\n",
              "  <thead>\n",
              "    <tr style=\"text-align: right;\">\n",
              "      <th></th>\n",
              "      <th>emoji</th>\n",
              "      <th>emotion_label</th>\n",
              "    </tr>\n",
              "  </thead>\n",
              "  <tbody>\n",
              "    <tr>\n",
              "      <th>0</th>\n",
              "      <td>😠</td>\n",
              "      <td>anger</td>\n",
              "    </tr>\n",
              "    <tr>\n",
              "      <th>1</th>\n",
              "      <td>😡</td>\n",
              "      <td>anger</td>\n",
              "    </tr>\n",
              "    <tr>\n",
              "      <th>2</th>\n",
              "      <td>🤬</td>\n",
              "      <td>anger</td>\n",
              "    </tr>\n",
              "    <tr>\n",
              "      <th>3</th>\n",
              "      <td>😤</td>\n",
              "      <td>anger</td>\n",
              "    </tr>\n",
              "    <tr>\n",
              "      <th>4</th>\n",
              "      <td>👿</td>\n",
              "      <td>anger</td>\n",
              "    </tr>\n",
              "    <tr>\n",
              "      <th>...</th>\n",
              "      <td>...</td>\n",
              "      <td>...</td>\n",
              "    </tr>\n",
              "    <tr>\n",
              "      <th>74</th>\n",
              "      <td>⁉️</td>\n",
              "      <td>surprise</td>\n",
              "    </tr>\n",
              "    <tr>\n",
              "      <th>76</th>\n",
              "      <td>🤭</td>\n",
              "      <td>surprise</td>\n",
              "    </tr>\n",
              "    <tr>\n",
              "      <th>77</th>\n",
              "      <td>🙀</td>\n",
              "      <td>surprise</td>\n",
              "    </tr>\n",
              "    <tr>\n",
              "      <th>78</th>\n",
              "      <td>😮‍💨</td>\n",
              "      <td>surprise</td>\n",
              "    </tr>\n",
              "    <tr>\n",
              "      <th>1248</th>\n",
              "      <td>😮‍👍</td>\n",
              "      <td>surprise</td>\n",
              "    </tr>\n",
              "  </tbody>\n",
              "</table>\n",
              "<p>79 rows × 2 columns</p>\n",
              "</div>\n",
              "    <div class=\"colab-df-buttons\">\n",
              "\n",
              "  <div class=\"colab-df-container\">\n",
              "    <button class=\"colab-df-convert\" onclick=\"convertToInteractive('df-3fc941cd-1a99-42dc-9c27-eff3b2b69ac8')\"\n",
              "            title=\"Convert this dataframe to an interactive table.\"\n",
              "            style=\"display:none;\">\n",
              "\n",
              "  <svg xmlns=\"http://www.w3.org/2000/svg\" height=\"24px\" viewBox=\"0 -960 960 960\">\n",
              "    <path d=\"M120-120v-720h720v720H120Zm60-500h600v-160H180v160Zm220 220h160v-160H400v160Zm0 220h160v-160H400v160ZM180-400h160v-160H180v160Zm440 0h160v-160H620v160ZM180-180h160v-160H180v160Zm440 0h160v-160H620v160Z\"/>\n",
              "  </svg>\n",
              "    </button>\n",
              "\n",
              "  <style>\n",
              "    .colab-df-container {\n",
              "      display:flex;\n",
              "      gap: 12px;\n",
              "    }\n",
              "\n",
              "    .colab-df-convert {\n",
              "      background-color: #E8F0FE;\n",
              "      border: none;\n",
              "      border-radius: 50%;\n",
              "      cursor: pointer;\n",
              "      display: none;\n",
              "      fill: #1967D2;\n",
              "      height: 32px;\n",
              "      padding: 0 0 0 0;\n",
              "      width: 32px;\n",
              "    }\n",
              "\n",
              "    .colab-df-convert:hover {\n",
              "      background-color: #E2EBFA;\n",
              "      box-shadow: 0px 1px 2px rgba(60, 64, 67, 0.3), 0px 1px 3px 1px rgba(60, 64, 67, 0.15);\n",
              "      fill: #174EA6;\n",
              "    }\n",
              "\n",
              "    .colab-df-buttons div {\n",
              "      margin-bottom: 4px;\n",
              "    }\n",
              "\n",
              "    [theme=dark] .colab-df-convert {\n",
              "      background-color: #3B4455;\n",
              "      fill: #D2E3FC;\n",
              "    }\n",
              "\n",
              "    [theme=dark] .colab-df-convert:hover {\n",
              "      background-color: #434B5C;\n",
              "      box-shadow: 0px 1px 3px 1px rgba(0, 0, 0, 0.15);\n",
              "      filter: drop-shadow(0px 1px 2px rgba(0, 0, 0, 0.3));\n",
              "      fill: #FFFFFF;\n",
              "    }\n",
              "  </style>\n",
              "\n",
              "    <script>\n",
              "      const buttonEl =\n",
              "        document.querySelector('#df-3fc941cd-1a99-42dc-9c27-eff3b2b69ac8 button.colab-df-convert');\n",
              "      buttonEl.style.display =\n",
              "        google.colab.kernel.accessAllowed ? 'block' : 'none';\n",
              "\n",
              "      async function convertToInteractive(key) {\n",
              "        const element = document.querySelector('#df-3fc941cd-1a99-42dc-9c27-eff3b2b69ac8');\n",
              "        const dataTable =\n",
              "          await google.colab.kernel.invokeFunction('convertToInteractive',\n",
              "                                                    [key], {});\n",
              "        if (!dataTable) return;\n",
              "\n",
              "        const docLinkHtml = 'Like what you see? Visit the ' +\n",
              "          '<a target=\"_blank\" href=https://colab.research.google.com/notebooks/data_table.ipynb>data table notebook</a>'\n",
              "          + ' to learn more about interactive tables.';\n",
              "        element.innerHTML = '';\n",
              "        dataTable['output_type'] = 'display_data';\n",
              "        await google.colab.output.renderOutput(dataTable, element);\n",
              "        const docLink = document.createElement('div');\n",
              "        docLink.innerHTML = docLinkHtml;\n",
              "        element.appendChild(docLink);\n",
              "      }\n",
              "    </script>\n",
              "  </div>\n",
              "\n",
              "\n",
              "<div id=\"df-5c8cc657-785c-495f-839a-10e2149717ce\">\n",
              "  <button class=\"colab-df-quickchart\" onclick=\"quickchart('df-5c8cc657-785c-495f-839a-10e2149717ce')\"\n",
              "            title=\"Suggest charts\"\n",
              "            style=\"display:none;\">\n",
              "\n",
              "<svg xmlns=\"http://www.w3.org/2000/svg\" height=\"24px\"viewBox=\"0 0 24 24\"\n",
              "     width=\"24px\">\n",
              "    <g>\n",
              "        <path d=\"M19 3H5c-1.1 0-2 .9-2 2v14c0 1.1.9 2 2 2h14c1.1 0 2-.9 2-2V5c0-1.1-.9-2-2-2zM9 17H7v-7h2v7zm4 0h-2V7h2v10zm4 0h-2v-4h2v4z\"/>\n",
              "    </g>\n",
              "</svg>\n",
              "  </button>\n",
              "\n",
              "<style>\n",
              "  .colab-df-quickchart {\n",
              "      --bg-color: #E8F0FE;\n",
              "      --fill-color: #1967D2;\n",
              "      --hover-bg-color: #E2EBFA;\n",
              "      --hover-fill-color: #174EA6;\n",
              "      --disabled-fill-color: #AAA;\n",
              "      --disabled-bg-color: #DDD;\n",
              "  }\n",
              "\n",
              "  [theme=dark] .colab-df-quickchart {\n",
              "      --bg-color: #3B4455;\n",
              "      --fill-color: #D2E3FC;\n",
              "      --hover-bg-color: #434B5C;\n",
              "      --hover-fill-color: #FFFFFF;\n",
              "      --disabled-bg-color: #3B4455;\n",
              "      --disabled-fill-color: #666;\n",
              "  }\n",
              "\n",
              "  .colab-df-quickchart {\n",
              "    background-color: var(--bg-color);\n",
              "    border: none;\n",
              "    border-radius: 50%;\n",
              "    cursor: pointer;\n",
              "    display: none;\n",
              "    fill: var(--fill-color);\n",
              "    height: 32px;\n",
              "    padding: 0;\n",
              "    width: 32px;\n",
              "  }\n",
              "\n",
              "  .colab-df-quickchart:hover {\n",
              "    background-color: var(--hover-bg-color);\n",
              "    box-shadow: 0 1px 2px rgba(60, 64, 67, 0.3), 0 1px 3px 1px rgba(60, 64, 67, 0.15);\n",
              "    fill: var(--button-hover-fill-color);\n",
              "  }\n",
              "\n",
              "  .colab-df-quickchart-complete:disabled,\n",
              "  .colab-df-quickchart-complete:disabled:hover {\n",
              "    background-color: var(--disabled-bg-color);\n",
              "    fill: var(--disabled-fill-color);\n",
              "    box-shadow: none;\n",
              "  }\n",
              "\n",
              "  .colab-df-spinner {\n",
              "    border: 2px solid var(--fill-color);\n",
              "    border-color: transparent;\n",
              "    border-bottom-color: var(--fill-color);\n",
              "    animation:\n",
              "      spin 1s steps(1) infinite;\n",
              "  }\n",
              "\n",
              "  @keyframes spin {\n",
              "    0% {\n",
              "      border-color: transparent;\n",
              "      border-bottom-color: var(--fill-color);\n",
              "      border-left-color: var(--fill-color);\n",
              "    }\n",
              "    20% {\n",
              "      border-color: transparent;\n",
              "      border-left-color: var(--fill-color);\n",
              "      border-top-color: var(--fill-color);\n",
              "    }\n",
              "    30% {\n",
              "      border-color: transparent;\n",
              "      border-left-color: var(--fill-color);\n",
              "      border-top-color: var(--fill-color);\n",
              "      border-right-color: var(--fill-color);\n",
              "    }\n",
              "    40% {\n",
              "      border-color: transparent;\n",
              "      border-right-color: var(--fill-color);\n",
              "      border-top-color: var(--fill-color);\n",
              "    }\n",
              "    60% {\n",
              "      border-color: transparent;\n",
              "      border-right-color: var(--fill-color);\n",
              "    }\n",
              "    80% {\n",
              "      border-color: transparent;\n",
              "      border-right-color: var(--fill-color);\n",
              "      border-bottom-color: var(--fill-color);\n",
              "    }\n",
              "    90% {\n",
              "      border-color: transparent;\n",
              "      border-bottom-color: var(--fill-color);\n",
              "    }\n",
              "  }\n",
              "</style>\n",
              "\n",
              "  <script>\n",
              "    async function quickchart(key) {\n",
              "      const quickchartButtonEl =\n",
              "        document.querySelector('#' + key + ' button');\n",
              "      quickchartButtonEl.disabled = true;  // To prevent multiple clicks.\n",
              "      quickchartButtonEl.classList.add('colab-df-spinner');\n",
              "      try {\n",
              "        const charts = await google.colab.kernel.invokeFunction(\n",
              "            'suggestCharts', [key], {});\n",
              "      } catch (error) {\n",
              "        console.error('Error during call to suggestCharts:', error);\n",
              "      }\n",
              "      quickchartButtonEl.classList.remove('colab-df-spinner');\n",
              "      quickchartButtonEl.classList.add('colab-df-quickchart-complete');\n",
              "    }\n",
              "    (() => {\n",
              "      let quickchartButtonEl =\n",
              "        document.querySelector('#df-5c8cc657-785c-495f-839a-10e2149717ce button');\n",
              "      quickchartButtonEl.style.display =\n",
              "        google.colab.kernel.accessAllowed ? 'block' : 'none';\n",
              "    })();\n",
              "  </script>\n",
              "</div>\n",
              "\n",
              "  <div id=\"id_4309fdd0-2cce-436b-a8ec-ce71585cd6b4\">\n",
              "    <style>\n",
              "      .colab-df-generate {\n",
              "        background-color: #E8F0FE;\n",
              "        border: none;\n",
              "        border-radius: 50%;\n",
              "        cursor: pointer;\n",
              "        display: none;\n",
              "        fill: #1967D2;\n",
              "        height: 32px;\n",
              "        padding: 0 0 0 0;\n",
              "        width: 32px;\n",
              "      }\n",
              "\n",
              "      .colab-df-generate:hover {\n",
              "        background-color: #E2EBFA;\n",
              "        box-shadow: 0px 1px 2px rgba(60, 64, 67, 0.3), 0px 1px 3px 1px rgba(60, 64, 67, 0.15);\n",
              "        fill: #174EA6;\n",
              "      }\n",
              "\n",
              "      [theme=dark] .colab-df-generate {\n",
              "        background-color: #3B4455;\n",
              "        fill: #D2E3FC;\n",
              "      }\n",
              "\n",
              "      [theme=dark] .colab-df-generate:hover {\n",
              "        background-color: #434B5C;\n",
              "        box-shadow: 0px 1px 3px 1px rgba(0, 0, 0, 0.15);\n",
              "        filter: drop-shadow(0px 1px 2px rgba(0, 0, 0, 0.3));\n",
              "        fill: #FFFFFF;\n",
              "      }\n",
              "    </style>\n",
              "    <button class=\"colab-df-generate\" onclick=\"generateWithVariable('dataset')\"\n",
              "            title=\"Generate code using this dataframe.\"\n",
              "            style=\"display:none;\">\n",
              "\n",
              "  <svg xmlns=\"http://www.w3.org/2000/svg\" height=\"24px\"viewBox=\"0 0 24 24\"\n",
              "       width=\"24px\">\n",
              "    <path d=\"M7,19H8.4L18.45,9,17,7.55,7,17.6ZM5,21V16.75L18.45,3.32a2,2,0,0,1,2.83,0l1.4,1.43a1.91,1.91,0,0,1,.58,1.4,1.91,1.91,0,0,1-.58,1.4L9.25,21ZM18.45,9,17,7.55Zm-12,3A5.31,5.31,0,0,0,4.9,8.1,5.31,5.31,0,0,0,1,6.5,5.31,5.31,0,0,0,4.9,4.9,5.31,5.31,0,0,0,6.5,1,5.31,5.31,0,0,0,8.1,4.9,5.31,5.31,0,0,0,12,6.5,5.46,5.46,0,0,0,6.5,12Z\"/>\n",
              "  </svg>\n",
              "    </button>\n",
              "    <script>\n",
              "      (() => {\n",
              "      const buttonEl =\n",
              "        document.querySelector('#id_4309fdd0-2cce-436b-a8ec-ce71585cd6b4 button.colab-df-generate');\n",
              "      buttonEl.style.display =\n",
              "        google.colab.kernel.accessAllowed ? 'block' : 'none';\n",
              "\n",
              "      buttonEl.onclick = () => {\n",
              "        google.colab.notebook.generateWithVariable('dataset');\n",
              "      }\n",
              "      })();\n",
              "    </script>\n",
              "  </div>\n",
              "\n",
              "    </div>\n",
              "  </div>\n"
            ],
            "text/plain": [
              "     emoji emotion_label\n",
              "0        😠         anger\n",
              "1        😡         anger\n",
              "2        🤬         anger\n",
              "3        😤         anger\n",
              "4        👿         anger\n",
              "...    ...           ...\n",
              "74      ⁉️      surprise\n",
              "76       🤭      surprise\n",
              "77       🙀      surprise\n",
              "78     😮‍💨      surprise\n",
              "1248   😮‍👍      surprise\n",
              "\n",
              "[79 rows x 2 columns]"
            ]
          },
          "execution_count": 77,
          "metadata": {},
          "output_type": "execute_result"
        }
      ],
      "source": [
        "dataset"
      ]
    },
    {
      "cell_type": "markdown",
      "metadata": {
        "id": "oBxQdilgZS7U"
      },
      "source": [
        "## 🔹 Step 10: Suggest emojis"
      ]
    },
    {
      "cell_type": "code",
      "execution_count": null,
      "metadata": {
        "id": "706jHsXlokR4"
      },
      "outputs": [],
      "source": [
        "def suggest_emojis(emotion):\n",
        "    emotion_df = dataset[dataset[\"emotion_label\"] == emotion]\n",
        "    if emotion_df.empty:\n",
        "        return f\"Sorry, no emojis found for the emotion '{emotion}'.\"\n",
        "\n",
        "    # Randomly sample 3 emojis (or fewer if less than 3 exist)\n",
        "    sampled_emojis = emotion_df[\"emoji\"].sample(n=min(3, len(emotion_df)), random_state=None).tolist()\n",
        "\n",
        "    return f\"{' , '.join(sampled_emojis)}\""
      ]
    },
    {
      "cell_type": "code",
      "execution_count": null,
      "metadata": {
        "colab": {
          "base_uri": "https://localhost:8080/",
          "height": 35
        },
        "id": "RPgwVySFqgKS",
        "outputId": "8a786ba3-aa01-4110-9f21-2835b5d49535"
      },
      "outputs": [
        {
          "data": {
            "application/vnd.google.colaboratory.intrinsic+json": {
              "type": "string"
            },
            "text/plain": [
              "'🥰 , ✨ , 🎉'"
            ]
          },
          "execution_count": 79,
          "metadata": {},
          "output_type": "execute_result"
        }
      ],
      "source": [
        "suggestions = suggest_emojis(top_emotion)\n",
        "suggestions"
      ]
    },
    {
      "cell_type": "code",
      "execution_count": null,
      "metadata": {
        "colab": {
          "base_uri": "https://localhost:8080/",
          "height": 215,
          "referenced_widgets": [
            "ebcebd62a1494b14b49d9198f3766fe7",
            "5c18106c2a4b4f50998cc5d81a8a1206",
            "7db5615a2edc4afc9ba3a379ade822c1",
            "7d784201d0e24b1b9c75223fbc7758a8",
            "b014311465504f02a7dd9119e56c2b91",
            "0c3844dbf1d3447e9dfe1c674a910be2",
            "1a45b967d5b04ea2a36f82b39adc1c98",
            "fa16fedf42684bd88bbd1475ba4566ed",
            "7ac2be19b89945ed80544ebebb40879d",
            "99d4b5f8a06c429c96a66c2365cde20c",
            "2937e54a1a7b4467a8f0d040790c0cd3"
          ]
        },
        "id": "M3bERtkDknhz",
        "outputId": "3d17c55e-a6e7-4cb8-c00a-cfe0d208a8af"
      },
      "outputs": [
        {
          "data": {
            "application/vnd.jupyter.widget-view+json": {
              "model_id": "ebcebd62a1494b14b49d9198f3766fe7",
              "version_major": 2,
              "version_minor": 0
            },
            "text/plain": [
              "VBox(children=(Textarea(value='', description='Text:', layout=Layout(height='100px', width='500px'), placehold…"
            ]
          },
          "metadata": {},
          "output_type": "display_data"
        }
      ],
      "source": [
        "color_map = {\n",
        "    \"anger\": \"tomato\",\n",
        "    \"disgust\": \"palegreen\",\n",
        "    \"fear\": \"plum\",\n",
        "    \"joy\": \"lemonchiffon\",\n",
        "    \"neutral\": \"lightgray\",\n",
        "    \"sadness\": \"lightblue\",\n",
        "    \"surprise\": \"gold\"\n",
        "}\n",
        "\n",
        "input_text = widgets.Textarea(\n",
        "    placeholder='Enter your text here...',\n",
        "    description='Text:',\n",
        "    layout=widgets.Layout(width='500px', height='100px')\n",
        ")\n",
        "analyze_button = widgets.Button(description='Analyze Emotion')\n",
        "\n",
        "output_area = widgets.HTML(\n",
        "    value='<div style=\"background-color: lightgray; color:black; padding: 15px; border-radius: 5px;\">Enter text and click \"Analyze Emotion\" to see results.</div>',\n",
        "    layout=widgets.Layout(width='500px')\n",
        ")\n",
        "\n",
        "# Define the callback function for the button click\n",
        "def on_analyze_button_clicked(b):\n",
        "    text = input_text.value.strip()\n",
        "    if not text:\n",
        "        output_area.value = '<div style=\"background-color: lightcoral; padding: 15px; border-radius: 5px;\"><b>Detected Emotion:</b> Please enter some text.<br>Suggested Emojis: </div>'\n",
        "        return\n",
        "    detected_emotions = emotions_analysis(text)\n",
        "    top_emotion = detected_emotions[0][0]\n",
        "    suggestions = suggest_emojis(top_emotion)\n",
        "    color = color_map.get(top_emotion, \"white\")\n",
        "    output_area.value = f'<div style=\"background-color: {color} ; color:black; padding: 15px; border-radius: 5px;\"><b>Detected Emotion:</b> {top_emotion}<br>Suggested Emojis: {suggestions}</div>'\n",
        "\n",
        "# Set the button's on_click event\n",
        "analyze_button.on_click(on_analyze_button_clicked)\n",
        "\n",
        "# Layout the widgets vertically\n",
        "vbox = widgets.VBox([input_text, analyze_button, output_area])\n",
        "\n",
        "# Display the GUI\n",
        "display(vbox)"
      ]
    }
  ],
  "metadata": {
    "colab": {
      "provenance": []
    },
    "kernelspec": {
      "display_name": "Python 3",
      "name": "python3"
    },
    "language_info": {
      "name": "python"
    },
    "widgets": {
      "application/vnd.jupyter.widget-state+json": {
        "0c3844dbf1d3447e9dfe1c674a910be2": {
          "model_module": "@jupyter-widgets/base",
          "model_module_version": "1.2.0",
          "model_name": "LayoutModel",
          "state": {
            "_model_module": "@jupyter-widgets/base",
            "_model_module_version": "1.2.0",
            "_model_name": "LayoutModel",
            "_view_count": null,
            "_view_module": "@jupyter-widgets/base",
            "_view_module_version": "1.2.0",
            "_view_name": "LayoutView",
            "align_content": null,
            "align_items": null,
            "align_self": null,
            "border": null,
            "bottom": null,
            "display": null,
            "flex": null,
            "flex_flow": null,
            "grid_area": null,
            "grid_auto_columns": null,
            "grid_auto_flow": null,
            "grid_auto_rows": null,
            "grid_column": null,
            "grid_gap": null,
            "grid_row": null,
            "grid_template_areas": null,
            "grid_template_columns": null,
            "grid_template_rows": null,
            "height": "100px",
            "justify_content": null,
            "justify_items": null,
            "left": null,
            "margin": null,
            "max_height": null,
            "max_width": null,
            "min_height": null,
            "min_width": null,
            "object_fit": null,
            "object_position": null,
            "order": null,
            "overflow": null,
            "overflow_x": null,
            "overflow_y": null,
            "padding": null,
            "right": null,
            "top": null,
            "visibility": null,
            "width": "500px"
          }
        },
        "1a45b967d5b04ea2a36f82b39adc1c98": {
          "model_module": "@jupyter-widgets/controls",
          "model_module_version": "1.5.0",
          "model_name": "DescriptionStyleModel",
          "state": {
            "_model_module": "@jupyter-widgets/controls",
            "_model_module_version": "1.5.0",
            "_model_name": "DescriptionStyleModel",
            "_view_count": null,
            "_view_module": "@jupyter-widgets/base",
            "_view_module_version": "1.2.0",
            "_view_name": "StyleView",
            "description_width": ""
          }
        },
        "28147acfd0da4c1dbd8dde42b2f52e4a": {
          "model_module": "@jupyter-widgets/controls",
          "model_module_version": "1.5.0",
          "model_name": "HTMLModel",
          "state": {
            "_dom_classes": [],
            "_model_module": "@jupyter-widgets/controls",
            "_model_module_version": "1.5.0",
            "_model_name": "HTMLModel",
            "_view_count": null,
            "_view_module": "@jupyter-widgets/controls",
            "_view_module_version": "1.5.0",
            "_view_name": "HTMLView",
            "description": "",
            "description_tooltip": null,
            "layout": "IPY_MODEL_7310a171cba744a7bd542e8e107562b8",
            "placeholder": "​",
            "style": "IPY_MODEL_747a24f7bd714b4cbff3240cebffa500",
            "value": "Map: 100%"
          }
        },
        "2937e54a1a7b4467a8f0d040790c0cd3": {
          "model_module": "@jupyter-widgets/controls",
          "model_module_version": "1.5.0",
          "model_name": "DescriptionStyleModel",
          "state": {
            "_model_module": "@jupyter-widgets/controls",
            "_model_module_version": "1.5.0",
            "_model_name": "DescriptionStyleModel",
            "_view_count": null,
            "_view_module": "@jupyter-widgets/base",
            "_view_module_version": "1.2.0",
            "_view_name": "StyleView",
            "description_width": ""
          }
        },
        "325e60f6f6864865826ee9efdd69d8ed": {
          "model_module": "@jupyter-widgets/controls",
          "model_module_version": "1.5.0",
          "model_name": "FloatProgressModel",
          "state": {
            "_dom_classes": [],
            "_model_module": "@jupyter-widgets/controls",
            "_model_module_version": "1.5.0",
            "_model_name": "FloatProgressModel",
            "_view_count": null,
            "_view_module": "@jupyter-widgets/controls",
            "_view_module_version": "1.5.0",
            "_view_name": "ProgressView",
            "bar_style": "success",
            "description": "",
            "description_tooltip": null,
            "layout": "IPY_MODEL_a940cd788b71467bbeeb01e76c5c973a",
            "max": 5427,
            "min": 0,
            "orientation": "horizontal",
            "style": "IPY_MODEL_36f24d06f4c5446b9a3cdc230ba41688",
            "value": 5427
          }
        },
        "36f24d06f4c5446b9a3cdc230ba41688": {
          "model_module": "@jupyter-widgets/controls",
          "model_module_version": "1.5.0",
          "model_name": "ProgressStyleModel",
          "state": {
            "_model_module": "@jupyter-widgets/controls",
            "_model_module_version": "1.5.0",
            "_model_name": "ProgressStyleModel",
            "_view_count": null,
            "_view_module": "@jupyter-widgets/base",
            "_view_module_version": "1.2.0",
            "_view_name": "StyleView",
            "bar_color": null,
            "description_width": ""
          }
        },
        "433d8efea67d4795a61155af3062b969": {
          "model_module": "@jupyter-widgets/controls",
          "model_module_version": "1.5.0",
          "model_name": "DescriptionStyleModel",
          "state": {
            "_model_module": "@jupyter-widgets/controls",
            "_model_module_version": "1.5.0",
            "_model_name": "DescriptionStyleModel",
            "_view_count": null,
            "_view_module": "@jupyter-widgets/base",
            "_view_module_version": "1.2.0",
            "_view_name": "StyleView",
            "description_width": ""
          }
        },
        "5c18106c2a4b4f50998cc5d81a8a1206": {
          "model_module": "@jupyter-widgets/controls",
          "model_module_version": "1.5.0",
          "model_name": "TextareaModel",
          "state": {
            "_dom_classes": [],
            "_model_module": "@jupyter-widgets/controls",
            "_model_module_version": "1.5.0",
            "_model_name": "TextareaModel",
            "_view_count": null,
            "_view_module": "@jupyter-widgets/controls",
            "_view_module_version": "1.5.0",
            "_view_name": "TextareaView",
            "continuous_update": true,
            "description": "Text:",
            "description_tooltip": null,
            "disabled": false,
            "layout": "IPY_MODEL_0c3844dbf1d3447e9dfe1c674a910be2",
            "placeholder": "Enter your text here...",
            "rows": null,
            "style": "IPY_MODEL_1a45b967d5b04ea2a36f82b39adc1c98",
            "value": "It was "
          }
        },
        "7310a171cba744a7bd542e8e107562b8": {
          "model_module": "@jupyter-widgets/base",
          "model_module_version": "1.2.0",
          "model_name": "LayoutModel",
          "state": {
            "_model_module": "@jupyter-widgets/base",
            "_model_module_version": "1.2.0",
            "_model_name": "LayoutModel",
            "_view_count": null,
            "_view_module": "@jupyter-widgets/base",
            "_view_module_version": "1.2.0",
            "_view_name": "LayoutView",
            "align_content": null,
            "align_items": null,
            "align_self": null,
            "border": null,
            "bottom": null,
            "display": null,
            "flex": null,
            "flex_flow": null,
            "grid_area": null,
            "grid_auto_columns": null,
            "grid_auto_flow": null,
            "grid_auto_rows": null,
            "grid_column": null,
            "grid_gap": null,
            "grid_row": null,
            "grid_template_areas": null,
            "grid_template_columns": null,
            "grid_template_rows": null,
            "height": null,
            "justify_content": null,
            "justify_items": null,
            "left": null,
            "margin": null,
            "max_height": null,
            "max_width": null,
            "min_height": null,
            "min_width": null,
            "object_fit": null,
            "object_position": null,
            "order": null,
            "overflow": null,
            "overflow_x": null,
            "overflow_y": null,
            "padding": null,
            "right": null,
            "top": null,
            "visibility": null,
            "width": null
          }
        },
        "747a24f7bd714b4cbff3240cebffa500": {
          "model_module": "@jupyter-widgets/controls",
          "model_module_version": "1.5.0",
          "model_name": "DescriptionStyleModel",
          "state": {
            "_model_module": "@jupyter-widgets/controls",
            "_model_module_version": "1.5.0",
            "_model_name": "DescriptionStyleModel",
            "_view_count": null,
            "_view_module": "@jupyter-widgets/base",
            "_view_module_version": "1.2.0",
            "_view_name": "StyleView",
            "description_width": ""
          }
        },
        "7ac2be19b89945ed80544ebebb40879d": {
          "model_module": "@jupyter-widgets/controls",
          "model_module_version": "1.5.0",
          "model_name": "ButtonStyleModel",
          "state": {
            "_model_module": "@jupyter-widgets/controls",
            "_model_module_version": "1.5.0",
            "_model_name": "ButtonStyleModel",
            "_view_count": null,
            "_view_module": "@jupyter-widgets/base",
            "_view_module_version": "1.2.0",
            "_view_name": "StyleView",
            "button_color": null,
            "font_weight": ""
          }
        },
        "7d784201d0e24b1b9c75223fbc7758a8": {
          "model_module": "@jupyter-widgets/controls",
          "model_module_version": "1.5.0",
          "model_name": "HTMLModel",
          "state": {
            "_dom_classes": [],
            "_model_module": "@jupyter-widgets/controls",
            "_model_module_version": "1.5.0",
            "_model_name": "HTMLModel",
            "_view_count": null,
            "_view_module": "@jupyter-widgets/controls",
            "_view_module_version": "1.5.0",
            "_view_name": "HTMLView",
            "description": "",
            "description_tooltip": null,
            "layout": "IPY_MODEL_99d4b5f8a06c429c96a66c2365cde20c",
            "placeholder": "​",
            "style": "IPY_MODEL_2937e54a1a7b4467a8f0d040790c0cd3",
            "value": "<div style=\"background-color: lightgray; color:black; padding: 15px; border-radius: 5px;\">Enter text and click \"Analyze Emotion\" to see results.</div>"
          }
        },
        "7db5615a2edc4afc9ba3a379ade822c1": {
          "model_module": "@jupyter-widgets/controls",
          "model_module_version": "1.5.0",
          "model_name": "ButtonModel",
          "state": {
            "_dom_classes": [],
            "_model_module": "@jupyter-widgets/controls",
            "_model_module_version": "1.5.0",
            "_model_name": "ButtonModel",
            "_view_count": null,
            "_view_module": "@jupyter-widgets/controls",
            "_view_module_version": "1.5.0",
            "_view_name": "ButtonView",
            "button_style": "",
            "description": "Analyze Emotion",
            "disabled": false,
            "icon": "",
            "layout": "IPY_MODEL_fa16fedf42684bd88bbd1475ba4566ed",
            "style": "IPY_MODEL_7ac2be19b89945ed80544ebebb40879d",
            "tooltip": ""
          }
        },
        "99d4b5f8a06c429c96a66c2365cde20c": {
          "model_module": "@jupyter-widgets/base",
          "model_module_version": "1.2.0",
          "model_name": "LayoutModel",
          "state": {
            "_model_module": "@jupyter-widgets/base",
            "_model_module_version": "1.2.0",
            "_model_name": "LayoutModel",
            "_view_count": null,
            "_view_module": "@jupyter-widgets/base",
            "_view_module_version": "1.2.0",
            "_view_name": "LayoutView",
            "align_content": null,
            "align_items": null,
            "align_self": null,
            "border": null,
            "bottom": null,
            "display": null,
            "flex": null,
            "flex_flow": null,
            "grid_area": null,
            "grid_auto_columns": null,
            "grid_auto_flow": null,
            "grid_auto_rows": null,
            "grid_column": null,
            "grid_gap": null,
            "grid_row": null,
            "grid_template_areas": null,
            "grid_template_columns": null,
            "grid_template_rows": null,
            "height": null,
            "justify_content": null,
            "justify_items": null,
            "left": null,
            "margin": null,
            "max_height": null,
            "max_width": null,
            "min_height": null,
            "min_width": null,
            "object_fit": null,
            "object_position": null,
            "order": null,
            "overflow": null,
            "overflow_x": null,
            "overflow_y": null,
            "padding": null,
            "right": null,
            "top": null,
            "visibility": null,
            "width": "500px"
          }
        },
        "a940cd788b71467bbeeb01e76c5c973a": {
          "model_module": "@jupyter-widgets/base",
          "model_module_version": "1.2.0",
          "model_name": "LayoutModel",
          "state": {
            "_model_module": "@jupyter-widgets/base",
            "_model_module_version": "1.2.0",
            "_model_name": "LayoutModel",
            "_view_count": null,
            "_view_module": "@jupyter-widgets/base",
            "_view_module_version": "1.2.0",
            "_view_name": "LayoutView",
            "align_content": null,
            "align_items": null,
            "align_self": null,
            "border": null,
            "bottom": null,
            "display": null,
            "flex": null,
            "flex_flow": null,
            "grid_area": null,
            "grid_auto_columns": null,
            "grid_auto_flow": null,
            "grid_auto_rows": null,
            "grid_column": null,
            "grid_gap": null,
            "grid_row": null,
            "grid_template_areas": null,
            "grid_template_columns": null,
            "grid_template_rows": null,
            "height": null,
            "justify_content": null,
            "justify_items": null,
            "left": null,
            "margin": null,
            "max_height": null,
            "max_width": null,
            "min_height": null,
            "min_width": null,
            "object_fit": null,
            "object_position": null,
            "order": null,
            "overflow": null,
            "overflow_x": null,
            "overflow_y": null,
            "padding": null,
            "right": null,
            "top": null,
            "visibility": null,
            "width": null
          }
        },
        "b014311465504f02a7dd9119e56c2b91": {
          "model_module": "@jupyter-widgets/base",
          "model_module_version": "1.2.0",
          "model_name": "LayoutModel",
          "state": {
            "_model_module": "@jupyter-widgets/base",
            "_model_module_version": "1.2.0",
            "_model_name": "LayoutModel",
            "_view_count": null,
            "_view_module": "@jupyter-widgets/base",
            "_view_module_version": "1.2.0",
            "_view_name": "LayoutView",
            "align_content": null,
            "align_items": null,
            "align_self": null,
            "border": null,
            "bottom": null,
            "display": null,
            "flex": null,
            "flex_flow": null,
            "grid_area": null,
            "grid_auto_columns": null,
            "grid_auto_flow": null,
            "grid_auto_rows": null,
            "grid_column": null,
            "grid_gap": null,
            "grid_row": null,
            "grid_template_areas": null,
            "grid_template_columns": null,
            "grid_template_rows": null,
            "height": null,
            "justify_content": null,
            "justify_items": null,
            "left": null,
            "margin": null,
            "max_height": null,
            "max_width": null,
            "min_height": null,
            "min_width": null,
            "object_fit": null,
            "object_position": null,
            "order": null,
            "overflow": null,
            "overflow_x": null,
            "overflow_y": null,
            "padding": null,
            "right": null,
            "top": null,
            "visibility": null,
            "width": null
          }
        },
        "c1f0e7556443464b8ddbcd9128bed552": {
          "model_module": "@jupyter-widgets/base",
          "model_module_version": "1.2.0",
          "model_name": "LayoutModel",
          "state": {
            "_model_module": "@jupyter-widgets/base",
            "_model_module_version": "1.2.0",
            "_model_name": "LayoutModel",
            "_view_count": null,
            "_view_module": "@jupyter-widgets/base",
            "_view_module_version": "1.2.0",
            "_view_name": "LayoutView",
            "align_content": null,
            "align_items": null,
            "align_self": null,
            "border": null,
            "bottom": null,
            "display": null,
            "flex": null,
            "flex_flow": null,
            "grid_area": null,
            "grid_auto_columns": null,
            "grid_auto_flow": null,
            "grid_auto_rows": null,
            "grid_column": null,
            "grid_gap": null,
            "grid_row": null,
            "grid_template_areas": null,
            "grid_template_columns": null,
            "grid_template_rows": null,
            "height": null,
            "justify_content": null,
            "justify_items": null,
            "left": null,
            "margin": null,
            "max_height": null,
            "max_width": null,
            "min_height": null,
            "min_width": null,
            "object_fit": null,
            "object_position": null,
            "order": null,
            "overflow": null,
            "overflow_x": null,
            "overflow_y": null,
            "padding": null,
            "right": null,
            "top": null,
            "visibility": null,
            "width": null
          }
        },
        "c3884c35dda04620818ef09929cb2a5b": {
          "model_module": "@jupyter-widgets/controls",
          "model_module_version": "1.5.0",
          "model_name": "HBoxModel",
          "state": {
            "_dom_classes": [],
            "_model_module": "@jupyter-widgets/controls",
            "_model_module_version": "1.5.0",
            "_model_name": "HBoxModel",
            "_view_count": null,
            "_view_module": "@jupyter-widgets/controls",
            "_view_module_version": "1.5.0",
            "_view_name": "HBoxView",
            "box_style": "",
            "children": [
              "IPY_MODEL_28147acfd0da4c1dbd8dde42b2f52e4a",
              "IPY_MODEL_325e60f6f6864865826ee9efdd69d8ed",
              "IPY_MODEL_d8b04b519a92413e8a52f46ac7765f8e"
            ],
            "layout": "IPY_MODEL_c1f0e7556443464b8ddbcd9128bed552"
          }
        },
        "d68bee574b1c415f8a04ab0d186d5f7f": {
          "model_module": "@jupyter-widgets/base",
          "model_module_version": "1.2.0",
          "model_name": "LayoutModel",
          "state": {
            "_model_module": "@jupyter-widgets/base",
            "_model_module_version": "1.2.0",
            "_model_name": "LayoutModel",
            "_view_count": null,
            "_view_module": "@jupyter-widgets/base",
            "_view_module_version": "1.2.0",
            "_view_name": "LayoutView",
            "align_content": null,
            "align_items": null,
            "align_self": null,
            "border": null,
            "bottom": null,
            "display": null,
            "flex": null,
            "flex_flow": null,
            "grid_area": null,
            "grid_auto_columns": null,
            "grid_auto_flow": null,
            "grid_auto_rows": null,
            "grid_column": null,
            "grid_gap": null,
            "grid_row": null,
            "grid_template_areas": null,
            "grid_template_columns": null,
            "grid_template_rows": null,
            "height": null,
            "justify_content": null,
            "justify_items": null,
            "left": null,
            "margin": null,
            "max_height": null,
            "max_width": null,
            "min_height": null,
            "min_width": null,
            "object_fit": null,
            "object_position": null,
            "order": null,
            "overflow": null,
            "overflow_x": null,
            "overflow_y": null,
            "padding": null,
            "right": null,
            "top": null,
            "visibility": null,
            "width": null
          }
        },
        "d8b04b519a92413e8a52f46ac7765f8e": {
          "model_module": "@jupyter-widgets/controls",
          "model_module_version": "1.5.0",
          "model_name": "HTMLModel",
          "state": {
            "_dom_classes": [],
            "_model_module": "@jupyter-widgets/controls",
            "_model_module_version": "1.5.0",
            "_model_name": "HTMLModel",
            "_view_count": null,
            "_view_module": "@jupyter-widgets/controls",
            "_view_module_version": "1.5.0",
            "_view_name": "HTMLView",
            "description": "",
            "description_tooltip": null,
            "layout": "IPY_MODEL_d68bee574b1c415f8a04ab0d186d5f7f",
            "placeholder": "​",
            "style": "IPY_MODEL_433d8efea67d4795a61155af3062b969",
            "value": " 5427/5427 [00:01&lt;00:00, 4568.13 examples/s]"
          }
        },
        "ebcebd62a1494b14b49d9198f3766fe7": {
          "model_module": "@jupyter-widgets/controls",
          "model_module_version": "1.5.0",
          "model_name": "VBoxModel",
          "state": {
            "_dom_classes": [],
            "_model_module": "@jupyter-widgets/controls",
            "_model_module_version": "1.5.0",
            "_model_name": "VBoxModel",
            "_view_count": null,
            "_view_module": "@jupyter-widgets/controls",
            "_view_module_version": "1.5.0",
            "_view_name": "VBoxView",
            "box_style": "",
            "children": [
              "IPY_MODEL_5c18106c2a4b4f50998cc5d81a8a1206",
              "IPY_MODEL_7db5615a2edc4afc9ba3a379ade822c1",
              "IPY_MODEL_7d784201d0e24b1b9c75223fbc7758a8"
            ],
            "layout": "IPY_MODEL_b014311465504f02a7dd9119e56c2b91"
          }
        },
        "fa16fedf42684bd88bbd1475ba4566ed": {
          "model_module": "@jupyter-widgets/base",
          "model_module_version": "1.2.0",
          "model_name": "LayoutModel",
          "state": {
            "_model_module": "@jupyter-widgets/base",
            "_model_module_version": "1.2.0",
            "_model_name": "LayoutModel",
            "_view_count": null,
            "_view_module": "@jupyter-widgets/base",
            "_view_module_version": "1.2.0",
            "_view_name": "LayoutView",
            "align_content": null,
            "align_items": null,
            "align_self": null,
            "border": null,
            "bottom": null,
            "display": null,
            "flex": null,
            "flex_flow": null,
            "grid_area": null,
            "grid_auto_columns": null,
            "grid_auto_flow": null,
            "grid_auto_rows": null,
            "grid_column": null,
            "grid_gap": null,
            "grid_row": null,
            "grid_template_areas": null,
            "grid_template_columns": null,
            "grid_template_rows": null,
            "height": null,
            "justify_content": null,
            "justify_items": null,
            "left": null,
            "margin": null,
            "max_height": null,
            "max_width": null,
            "min_height": null,
            "min_width": null,
            "object_fit": null,
            "object_position": null,
            "order": null,
            "overflow": null,
            "overflow_x": null,
            "overflow_y": null,
            "padding": null,
            "right": null,
            "top": null,
            "visibility": null,
            "width": null
          }
        }
      }
    }
  },
  "nbformat": 4,
  "nbformat_minor": 0
}
